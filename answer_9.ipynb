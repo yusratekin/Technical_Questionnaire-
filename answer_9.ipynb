{
 "cells": [
  {
   "cell_type": "code",
   "execution_count": null,
   "id": "a921033d-e7a7-45e6-b946-21616c6fed87",
   "metadata": {},
   "outputs": [],
   "source": []
  },
  {
   "cell_type": "code",
   "execution_count": 4,
   "id": "1468b53c-a298-41e8-8dc9-569d97034e34",
   "metadata": {},
   "outputs": [
    {
     "name": "stdout",
     "output_type": "stream",
     "text": [
      "                    Stats_Access_Link Device_Type Pure_URL\n",
      "0   <http>://xcd32112.smart_meter.com      AXO145     None\n",
      "1   <http>://abc12345.smart_meter.com      XYZ789     None\n",
      "2  <https>://def54321.smart_meter.com      AXO145     None\n"
     ]
    }
   ],
   "source": [
    "import pandas as pd\n",
    "import re\n",
    "\n",
    "# Örnek DataFrame oluşturma\n",
    "data = {\n",
    "    'Stats_Access_Link': ['<http>://xcd32112.smart_meter.com', '<http>://abc12345.smart_meter.com', '<https>://def54321.smart_meter.com'],\n",
    "    'Device_Type': ['AXO145', 'XYZ789', 'AXO145']\n",
    "}\n",
    "\n",
    "# DataFrame oluşturma\n",
    "df = pd.DataFrame(data)\n",
    "\n",
    "# İşlevi tanımlama\n",
    "def extract_url(access_link):\n",
    "    pattern = r'<protocol>://(?P<url>[a-z0-9_.]+)'\n",
    "    match = re.search(pattern, access_link, re.IGNORECASE)\n",
    "    if match:\n",
    "        return match.group('url')\n",
    "    else:\n",
    "        return None\n",
    "\n",
    "# DataFrame'e işlevi uygulama\n",
    "df['Pure_URL'] = df.apply(lambda row: extract_url(row['Stats_Access_Link']) if row['Device_Type'] == 'AXO145' else None, axis=1)\n",
    "\n",
    "# DataFrame'i görüntüleme\n",
    "print(df)\n"
   ]
  },
  {
   "cell_type": "code",
   "execution_count": null,
   "id": "834f3fe9-5eb8-4f2f-a09c-fbe5fc036875",
   "metadata": {},
   "outputs": [],
   "source": []
  }
 ],
 "metadata": {
  "kernelspec": {
   "display_name": "Python 3 (ipykernel)",
   "language": "python",
   "name": "python3"
  },
  "language_info": {
   "codemirror_mode": {
    "name": "ipython",
    "version": 3
   },
   "file_extension": ".py",
   "mimetype": "text/x-python",
   "name": "python",
   "nbconvert_exporter": "python",
   "pygments_lexer": "ipython3",
   "version": "3.11.7"
  }
 },
 "nbformat": 4,
 "nbformat_minor": 5
}
