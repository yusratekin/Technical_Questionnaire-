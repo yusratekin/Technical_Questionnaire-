{
 "cells": [
  {
   "cell_type": "code",
   "execution_count": 3,
   "id": "2258d67b-854d-4278-99a5-d771eafeec22",
   "metadata": {},
   "outputs": [
    {
     "name": "stdout",
     "output_type": "stream",
     "text": [
      "        country        date  daily_vaccinations  \\\n",
      "0     Argentina  12/29/2020                6483   \n",
      "1     Argentina  12/30/2020               15656   \n",
      "2     Argentina  12/31/2020               15656   \n",
      "3     Argentina    1/1/2021               11070   \n",
      "4     Argentina    1/2/2021                8776   \n",
      "...         ...         ...                 ...   \n",
      "1497      Wales   1/20/2021               11105   \n",
      "1498      Wales   1/21/2021               12318   \n",
      "1499      Wales   1/22/2021               15148   \n",
      "1500      Wales   1/23/2021               17371   \n",
      "1501      Wales   1/24/2021               17063   \n",
      "\n",
      "                                 vaccines  \n",
      "0                               Sputnik V  \n",
      "1                               Sputnik V  \n",
      "2                               Sputnik V  \n",
      "3                               Sputnik V  \n",
      "4                               Sputnik V  \n",
      "...                                   ...  \n",
      "1497  Oxford/AstraZeneca, Pfizer/BioNTech  \n",
      "1498  Oxford/AstraZeneca, Pfizer/BioNTech  \n",
      "1499  Oxford/AstraZeneca, Pfizer/BioNTech  \n",
      "1500  Oxford/AstraZeneca, Pfizer/BioNTech  \n",
      "1501  Oxford/AstraZeneca, Pfizer/BioNTech  \n",
      "\n",
      "[1502 rows x 4 columns]\n"
     ]
    }
   ],
   "source": [
    "import pandas as pd\n",
    "\n",
    "df = pd.read_csv(\"country_vaccination_stats.csv\")\n",
    "\n",
    "# Calculate the minimum daily vaccination numbers per country\n",
    "min_daily_vaccinations = df.groupby('country')['daily_vaccinations'].min().reset_index()\n",
    "\n",
    "# Fill missing values\n",
    "df = df.merge(min_daily_vaccinations, on='country', suffixes=('', '_min'))\n",
    "df['daily_vaccinations'] = df['daily_vaccinations'].fillna(df['daily_vaccinations_min'])\n",
    "\n",
    "# Replace non-finite values with zero\n",
    "df['daily_vaccinations'] = df['daily_vaccinations'].fillna(0)\n",
    "\n",
    "# Convert the column to integers\n",
    "df['daily_vaccinations'] = df['daily_vaccinations'].astype(int)\n",
    "\n",
    "# Drop the intermediate column\n",
    "df.drop(columns='daily_vaccinations_min', inplace=True)\n",
    "\n",
    "# Show or save the processed data\n",
    "print(df)  # Display the processed data\n",
    "# df.to_csv(\"processed_data.csv\", index=False)  # Save the processed data as CSV"
   ]
  },
  {
   "cell_type": "code",
   "execution_count": null,
   "id": "c299f407-2036-4e48-a8dd-6eed9fdecd22",
   "metadata": {},
   "outputs": [],
   "source": []
  }
 ],
 "metadata": {
  "kernelspec": {
   "display_name": "Python 3 (ipykernel)",
   "language": "python",
   "name": "python3"
  },
  "language_info": {
   "codemirror_mode": {
    "name": "ipython",
    "version": 3
   },
   "file_extension": ".py",
   "mimetype": "text/x-python",
   "name": "python",
   "nbconvert_exporter": "python",
   "pygments_lexer": "ipython3",
   "version": "3.11.7"
  }
 },
 "nbformat": 4,
 "nbformat_minor": 5
}
