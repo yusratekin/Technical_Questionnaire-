{
 "cells": [
  {
   "cell_type": "code",
   "execution_count": 1,
   "id": "8fac2dfd-3d5c-4874-867e-ff86d2146d0a",
   "metadata": {},
   "outputs": [
    {
     "name": "stdout",
     "output_type": "stream",
     "text": [
      "Top 3 Countries with Highest Median Daily Vaccination Numbers:\n",
      "country\n",
      "United States    378253.0\n",
      "China            276786.0\n",
      "India            173922.0\n",
      "Name: daily_vaccinations_filled, dtype: float64\n"
     ]
    }
   ],
   "source": [
    "import pandas as pd\n",
    "\n",
    "# Veri setini yükle\n",
    "df = pd.read_csv(\"country_vaccination_stats.csv\")  # Veri setinin dosya yolunu doğru şekilde belirtin\n",
    "\n",
    "# Eksik değerleri doldur\n",
    "min_daily_vaccinations = df.groupby('country')['daily_vaccinations'].transform('min')\n",
    "df['daily_vaccinations_filled'] = df['daily_vaccinations'].fillna(min_daily_vaccinations)\n",
    "\n",
    "# En yüksek medyan günlük aşı sayısına sahip ilk 3 ülkeyi bul\n",
    "top_countries = df.groupby('country')['daily_vaccinations_filled'].median().nlargest(3)\n",
    "\n",
    "print(\"Top 3 Countries with Highest Median Daily Vaccination Numbers:\")\n",
    "print(top_countries)\n"
   ]
  },
  {
   "cell_type": "code",
   "execution_count": null,
   "id": "dce2959d-9e55-46aa-9b1a-635f62aad766",
   "metadata": {},
   "outputs": [],
   "source": []
  }
 ],
 "metadata": {
  "kernelspec": {
   "display_name": "Python 3 (ipykernel)",
   "language": "python",
   "name": "python3"
  },
  "language_info": {
   "codemirror_mode": {
    "name": "ipython",
    "version": 3
   },
   "file_extension": ".py",
   "mimetype": "text/x-python",
   "name": "python",
   "nbconvert_exporter": "python",
   "pygments_lexer": "ipython3",
   "version": "3.11.7"
  }
 },
 "nbformat": 4,
 "nbformat_minor": 5
}
