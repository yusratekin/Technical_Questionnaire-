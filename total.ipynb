{
 "cells": [
  {
   "cell_type": "code",
   "execution_count": 1,
   "id": "4563d4e3-945a-4a51-8217-775e19ff218b",
   "metadata": {},
   "outputs": [
    {
     "name": "stdout",
     "output_type": "stream",
     "text": [
      "Total vaccinations done on 1/6/2021: 1485255.0\n"
     ]
    }
   ],
   "source": [
    "import pandas as pd\n",
    "\n",
    "# Veri setini yükle\n",
    "df = pd.read_csv(\"country_vaccination_stats.csv\")  # Veri setinin dosya yolunu doğru şekilde belirtin\n",
    "\n",
    "# Eksik değerleri doldur\n",
    "min_daily_vaccinations = df.groupby('country')['daily_vaccinations'].transform('min')\n",
    "df['daily_vaccinations_filled'] = df['daily_vaccinations'].fillna(min_daily_vaccinations)\n",
    "\n",
    "# Belirtilen tarihte yapılan toplam aşı sayısını hesapla\n",
    "total_vaccinations_on_date = df[df['date'] == '1/6/2021']['daily_vaccinations_filled'].sum()\n",
    "\n",
    "print(\"Total vaccinations done on 1/6/2021:\", total_vaccinations_on_date)\n"
   ]
  },
  {
   "cell_type": "code",
   "execution_count": null,
   "id": "e5a9197a-4f94-49e4-8e78-eff5905d5728",
   "metadata": {},
   "outputs": [],
   "source": []
  }
 ],
 "metadata": {
  "kernelspec": {
   "display_name": "Python 3 (ipykernel)",
   "language": "python",
   "name": "python3"
  },
  "language_info": {
   "codemirror_mode": {
    "name": "ipython",
    "version": 3
   },
   "file_extension": ".py",
   "mimetype": "text/x-python",
   "name": "python",
   "nbconvert_exporter": "python",
   "pygments_lexer": "ipython3",
   "version": "3.11.7"
  }
 },
 "nbformat": 4,
 "nbformat_minor": 5
}
